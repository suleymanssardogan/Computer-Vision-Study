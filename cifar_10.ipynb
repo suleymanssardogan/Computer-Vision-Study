{
  "nbformat": 4,
  "nbformat_minor": 0,
  "metadata": {
    "colab": {
      "provenance": []
    },
    "kernelspec": {
      "name": "python3",
      "display_name": "Python 3"
    },
    "language_info": {
      "name": "python"
    }
  },
  "cells": [
    {
      "cell_type": "code",
      "execution_count": null,
      "metadata": {
        "colab": {
          "base_uri": "https://localhost:8080/"
        },
        "id": "rIPkticL58nc",
        "outputId": "4ececad0-f281-4b1c-e435-ec988119c83e"
      },
      "outputs": [
        {
          "output_type": "stream",
          "name": "stdout",
          "text": [
            "Downloading data from https://www.cs.toronto.edu/~kriz/cifar-10-python.tar.gz\n",
            "\u001b[1m170498071/170498071\u001b[0m \u001b[32m━━━━━━━━━━━━━━━━━━━━\u001b[0m\u001b[37m\u001b[0m \u001b[1m4s\u001b[0m 0us/step\n",
            "(10000, 32, 32, 3)\n",
            "(10000, 1)\n",
            "(2000, 32, 32, 3)\n",
            "(2000, 1)\n",
            "Train shape (10000, 3072)\n"
          ]
        }
      ],
      "source": [
        "from tensorflow.keras.datasets import cifar10\n",
        "import numpy as np\n",
        "\n",
        "(x_train, y_train), (x_test, y_test) = cifar10.load_data()\n",
        "\n",
        "#10 bin örnek\n",
        "x_train, y_train = x_train[:10000], y_train[:10000]\n",
        "x_test, y_test = x_test[:2000], y_test[:2000]\n",
        "print(x_train.shape)\n",
        "print(y_train.shape)\n",
        "print(x_test.shape)\n",
        "print(y_test.shape)\n",
        "\n",
        "#Görselleri 1D vektöre çevir\n",
        "x_train_flat = x_train.reshape(len(x_train),-1)\n",
        "x_test_flat = x_test.reshape(len(x_test),-1)\n",
        "print(\"Train shape\",x_train_flat.shape)\n"
      ]
    },
    {
      "cell_type": "code",
      "source": [
        "from sklearn.neighbors import KNeighborsClassifier\n",
        "from sklearn.metrics import accuracy_score\n",
        "\n",
        "#KNN k=5\n",
        "knn = KNeighborsClassifier(n_neighbors=5)\n",
        "#y_train =(10000,1) ravel() --> bazen sklearn hedefi (10000,) istiyebilir ravel bu dönüşümü yapar.\n",
        "knn.fit(x_train_flat,y_train.ravel())\n",
        "\n",
        "#Tahmin ve doğruluk\n",
        "y_pred = knn.predict(x_test_flat)\n",
        "acc = accuracy_score(y_test,y_pred)\n",
        "print(\"KNN Doğruluk Oranı\",acc)"
      ],
      "metadata": {
        "colab": {
          "base_uri": "https://localhost:8080/"
        },
        "id": "kIoFsNVwCuND",
        "outputId": "9f1a127a-caea-4ccd-faff-99eab6eef241"
      },
      "execution_count": null,
      "outputs": [
        {
          "output_type": "stream",
          "name": "stdout",
          "text": [
            "KNN Doğruluk Oranı 0.278\n"
          ]
        }
      ]
    },
    {
      "cell_type": "code",
      "source": [
        "from sklearn.decomposition import PCA\n",
        "\n",
        "#Gürültü,gereksiz veya tekrarlayan(korrele) pikselleri eler, önemli olan varyansları tutar\n",
        "pca = PCA(n_components=100)\n",
        "x_train_pca = pca.fit_transform(x_train_flat)\n",
        "x_test_pca = pca.transform(x_test_flat)\n",
        "print(\"Yeni Boyut: \",x_train_pca.shape)\n",
        "\n",
        "#Şimdi aynı knn parametreleri ile düşük boyut veride deniyoruz\n",
        "knn = KNeighborsClassifier(n_neighbors=5)\n",
        "knn.fit(x_train_pca, y_train.ravel())\n",
        "y_pred = knn.predict(x_test_pca)\n",
        "print(\"PCA+KNN doğruluk:\", accuracy_score(y_test, y_pred))"
      ],
      "metadata": {
        "colab": {
          "base_uri": "https://localhost:8080/"
        },
        "id": "N4CKSCaoDjbb",
        "outputId": "3826b67f-95d9-430c-99a9-48dee67fa81d"
      },
      "execution_count": null,
      "outputs": [
        {
          "output_type": "stream",
          "name": "stdout",
          "text": [
            "Yeni Boyut:  (10000, 100)\n",
            "PCA+KNN doğruluk: 0.313\n"
          ]
        }
      ]
    },
    {
      "cell_type": "code",
      "source": [],
      "metadata": {
        "id": "ibPqTxOGEyfI"
      },
      "execution_count": null,
      "outputs": []
    },
    {
      "cell_type": "markdown",
      "source": [
        "Lineer Classifier\n"
      ],
      "metadata": {
        "id": "z7H8Kh3bEzCr"
      }
    },
    {
      "cell_type": "markdown",
      "source": [
        "Logistic Regression\n"
      ],
      "metadata": {
        "id": "bKstPhl7FAfW"
      }
    },
    {
      "cell_type": "code",
      "source": [
        "from sklearn.linear_model import LogisticRegression\n",
        "\n",
        "log_reg = LogisticRegression(max_iter=200,verbose=1)\n",
        "\n",
        "log_reg.fit(x_train_pca,y_train.ravel())\n",
        "y_pred = log_reg.predict(x_test_pca)\n",
        "print(\"PCA+LR doğruluk:\", accuracy_score(y_test, y_pred))"
      ],
      "metadata": {
        "colab": {
          "base_uri": "https://localhost:8080/"
        },
        "id": "fkRvsZLPEauS",
        "outputId": "2460b886-be96-438f-dcf2-0feaeab3235a"
      },
      "execution_count": null,
      "outputs": [
        {
          "output_type": "stream",
          "name": "stdout",
          "text": [
            "PCA+LR doğruluk: 0.3935\n"
          ]
        },
        {
          "output_type": "stream",
          "name": "stderr",
          "text": [
            "/usr/local/lib/python3.12/dist-packages/sklearn/linear_model/_logistic.py:465: ConvergenceWarning: lbfgs failed to converge (status=1):\n",
            "STOP: TOTAL NO. OF ITERATIONS REACHED LIMIT.\n",
            "\n",
            "Increase the number of iterations (max_iter) or scale the data as shown in:\n",
            "    https://scikit-learn.org/stable/modules/preprocessing.html\n",
            "Please also refer to the documentation for alternative solver options:\n",
            "    https://scikit-learn.org/stable/modules/linear_model.html#logistic-regression\n",
            "  n_iter_i = _check_optimize_result(\n",
            "[Parallel(n_jobs=1)]: Done   1 out of   1 | elapsed:    5.5s finished\n"
          ]
        }
      ]
    },
    {
      "cell_type": "markdown",
      "source": [
        "Linear SVM"
      ],
      "metadata": {
        "id": "mMAOuAx5FD4-"
      }
    },
    {
      "cell_type": "code",
      "source": [
        "#Support Vector Machine\n",
        "from sklearn.svm import LinearSVC\n",
        "\n",
        "svm = LinearSVC(max_iter=5000)\n",
        "svm.fit(x_train_pca,y_train.ravel())\n",
        "y_pred = svm.predict(x_test_pca)\n",
        "print(\"PCA+SVM doğruluk:\", accuracy_score(y_test, y_pred))"
      ],
      "metadata": {
        "colab": {
          "base_uri": "https://localhost:8080/"
        },
        "id": "xuv9AUebE9wI",
        "outputId": "917d501b-98ae-4c6b-e2a4-04fc1dfd347b"
      },
      "execution_count": null,
      "outputs": [
        {
          "output_type": "stream",
          "name": "stdout",
          "text": [
            "PCA+SVM doğruluk: 0.3925\n"
          ]
        }
      ]
    },
    {
      "cell_type": "code",
      "source": [
        "from sklearn.metrics import hinge_loss\n",
        "\n",
        "# LinearSVC modelin decision function çıktısı\n",
        "y_scores = svm.decision_function(x_test_pca)  # shape: (n_samples, n_classes) veya (n_samples,) binary\n",
        "\n",
        "# y_test etiketlerini {0,1} -> {-1,1} biçimine çevir\n",
        "y_test_hinge = np.where(y_test.ravel()==0, -1, 1)  # örnek olarak sadece iki sınıf seçmek gerek\n",
        "\n",
        "# Hinge loss hesapla\n",
        "loss = hinge_loss(y_test_hinge, y_scores[:,0])  # sadece bir sınıf için örnek\n",
        "print(\"Hinge Loss (örnek):\", loss)\n",
        "\n",
        "#sonuç: 1.78 çıktı bu demek oluyor ki yani 0<loss yani modelimde hala hatalı ve margin altında tahmin edilen örnekler fazla\n"
      ],
      "metadata": {
        "colab": {
          "base_uri": "https://localhost:8080/"
        },
        "id": "VRiJfcZcN5BN",
        "outputId": "ec97a170-258e-48ca-a365-a021e3b8f1e6"
      },
      "execution_count": null,
      "outputs": [
        {
          "output_type": "stream",
          "name": "stdout",
          "text": [
            "Hinge Loss (örnek): 1.7848514870346799\n"
          ]
        }
      ]
    },
    {
      "cell_type": "code",
      "source": [
        "import matplotlib.pyplot as plt\n",
        "import numpy as np\n",
        "\n",
        "x = np.linspace(-2, 2, 200)\n",
        "y = 1  # gerçek sınıf\n",
        "hinge = np.maximum(0, 1 - y*x)\n",
        "\n",
        "plt.plot(x, hinge)\n",
        "plt.xlabel(\"Tahmin skor f(x)\")\n",
        "plt.ylabel(\"Hinge Loss\")\n",
        "plt.title(\"Hinge Loss fonksiyonu\")\n",
        "plt.grid(True)\n",
        "plt.show()\n"
      ],
      "metadata": {
        "colab": {
          "base_uri": "https://localhost:8080/",
          "height": 472
        },
        "id": "M8873f7EOBRL",
        "outputId": "90337dc2-60c0-49c9-df31-2fdbc04addf5"
      },
      "execution_count": null,
      "outputs": [
        {
          "output_type": "display_data",
          "data": {
            "text/plain": [
              "<Figure size 640x480 with 1 Axes>"
            ],
            "image/png": "[encoded data removed]"
          },
          "metadata": {}
        }
      ]
    },
    {
      "cell_type": "code",
      "source": [
        "from sklearn.preprocessing import StandardScaler\n",
        "\n",
        "scaler = StandardScaler()\n",
        "x_train_scaled = scaler.fit_transform(x_train_pca)  # veya x_train_flat kullanıyorsan onu ver\n",
        "x_test_scaled  = scaler.transform(x_test_pca)\n"
      ],
      "metadata": {
        "id": "WdpTibrGFS3C"
      },
      "execution_count": null,
      "outputs": []
    },
    {
      "cell_type": "code",
      "source": [
        "from sklearn.neighbors import KNeighborsClassifier\n",
        "from sklearn.metrics import accuracy_score\n",
        "import time\n",
        "\n",
        "def evaluate_knn(metric_name, k=5):\n",
        "    knn = KNeighborsClassifier(n_neighbors=k, metric=metric_name, n_jobs=-1)\n",
        "    t0 = time.time()\n",
        "    knn.fit(x_train_scaled, y_train.ravel())\n",
        "    train_time = time.time() - t0\n",
        "\n",
        "    t1 = time.time()\n",
        "    y_pred = knn.predict(x_test_scaled)\n",
        "    pred_time = time.time() - t1\n",
        "\n",
        "    acc = accuracy_score(y_test, y_pred)\n",
        "    return acc, train_time, pred_time\n",
        "\n",
        "for metric in ['euclidean', 'manhattan']:\n",
        "    acc, tr_t, pr_t = evaluate_knn(metric, k=5)\n",
        "    print(f\"{metric:9s} | acc: {acc:.4f} | fit time: {tr_t:.2f}s | predict time: {pr_t:.2f}s\")\n"
      ],
      "metadata": {
        "colab": {
          "base_uri": "https://localhost:8080/"
        },
        "id": "z5sAU1HMMUsc",
        "outputId": "f4ddeaed-6788-44e9-af9e-dd97246bbc23"
      },
      "execution_count": null,
      "outputs": [
        {
          "output_type": "stream",
          "name": "stdout",
          "text": [
            "euclidean | acc: 0.2375 | fit time: 0.02s | predict time: 0.73s\n",
            "manhattan | acc: 0.2405 | fit time: 0.01s | predict time: 4.12s\n"
          ]
        }
      ]
    },
    {
      "cell_type": "markdown",
      "source": [
        "# Softmax"
      ],
      "metadata": {
        "id": "the1zx6OOpcM"
      }
    },
    {
      "cell_type": "code",
      "source": [
        "from sklearn.linear_model import LogisticRegression\n",
        "from sklearn.metrics import accuracy_score\n",
        "\n",
        "# Softmax classifier\n",
        "softmax_clf = LogisticRegression(\n",
        "    multi_class='multinomial',\n",
        "    solver='saga',\n",
        "    max_iter=1000,\n",
        "    verbose=1\n",
        ")\n",
        "\n",
        "softmax_clf.fit(x_train_pca, y_train.ravel())\n",
        "y_pred = softmax_clf.predict(x_test_pca)\n",
        "\n",
        "acc = accuracy_score(y_test, y_pred)\n",
        "print(\"PCA + Softmax doğruluk:\", acc)\n"
      ],
      "metadata": {
        "colab": {
          "base_uri": "https://localhost:8080/"
        },
        "id": "jt-DdnwYMWQN",
        "outputId": "84d0d970-b7f7-4e83-fb50-c3143fb4f0a9"
      },
      "execution_count": null,
      "outputs": [
        {
          "output_type": "stream",
          "name": "stderr",
          "text": [
            "/usr/local/lib/python3.12/dist-packages/sklearn/linear_model/_logistic.py:1247: FutureWarning: 'multi_class' was deprecated in version 1.5 and will be removed in 1.7. From then on, it will always use 'multinomial'. Leave it to its default value to avoid this warning.\n",
            "  warnings.warn(\n"
          ]
        },
        {
          "output_type": "stream",
          "name": "stdout",
          "text": [
            "convergence after 33 epochs took 2 seconds\n",
            "PCA + Softmax doğruluk: 0.391\n"
          ]
        },
        {
          "output_type": "stream",
          "name": "stderr",
          "text": [
            "[Parallel(n_jobs=1)]: Done   1 out of   1 | elapsed:    1.9s finished\n"
          ]
        }
      ]
    },
    {
      "cell_type": "code",
      "source": [
        "y_proba = softmax_clf.predict_proba(x_test_pca)\n",
        "print(\"Test örneği için olasılıklar (ilk 5 örnek):\\n\", y_proba[:5])\n",
        "print(\"Toplam olasılık (ilk örnek):\", y_proba[0].sum())  # toplam = 1\n"
      ],
      "metadata": {
        "colab": {
          "base_uri": "https://localhost:8080/"
        },
        "id": "PK11P_zlOoEl",
        "outputId": "00d44725-3b2e-40ea-d36f-8c8310f1365b"
      },
      "execution_count": null,
      "outputs": [
        {
          "output_type": "stream",
          "name": "stdout",
          "text": [
            "Test örneği için olasılıklar (ilk 5 örnek):\n",
            " [[0.04120971 0.1014628  0.14333834 0.27240355 0.0101541  0.08414996\n",
            "  0.21563748 0.00347261 0.12357221 0.00459924]\n",
            " [0.04726864 0.12454129 0.00956933 0.00832654 0.00172449 0.00449954\n",
            "  0.00334717 0.00308319 0.17722421 0.62041561]\n",
            " [0.18204357 0.10176718 0.01736492 0.0151545  0.00209901 0.02177719\n",
            "  0.00305878 0.0059356  0.55530113 0.09549812]\n",
            " [0.31401295 0.05883465 0.06287026 0.01674952 0.01706299 0.03201484\n",
            "  0.00413403 0.08404247 0.38220443 0.02807386]\n",
            " [0.01887586 0.03914199 0.16572886 0.05795451 0.42521078 0.07713644\n",
            "  0.08311773 0.08907123 0.03347272 0.01028988]]\n",
            "Toplam olasılık (ilk örnek): 1.0000000000000002\n"
          ]
        }
      ]
    },
    {
      "cell_type": "code",
      "source": [
        "from sklearn.metrics import log_loss\n",
        "\n",
        "# Test seti için softmax olasılıkları\n",
        "y_proba = softmax_clf.predict_proba(x_test_pca)\n",
        "\n",
        "# Cross-entropy loss hesapla\n",
        "loss = log_loss(y_test, y_proba)\n",
        "print(\"Test seti Cross-Entropy Loss:\", loss)\n"
      ],
      "metadata": {
        "colab": {
          "base_uri": "https://localhost:8080/"
        },
        "id": "K8BMnfLzOyMz",
        "outputId": "4bd67083-79a1-4c91-e5d2-fae919c76f38"
      },
      "execution_count": null,
      "outputs": [
        {
          "output_type": "stream",
          "name": "stdout",
          "text": [
            "Test seti Cross-Entropy Loss: 1.7827296724111603\n"
          ]
        }
      ]
    },
    {
      "cell_type": "code",
      "source": [],
      "metadata": {
        "id": "sYoRlhxAO8oq"
      },
      "execution_count": null,
      "outputs": []
    }
  ]
}